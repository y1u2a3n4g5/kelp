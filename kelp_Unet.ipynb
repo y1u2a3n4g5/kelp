{
 "cells": [
  {
   "cell_type": "markdown",
   "metadata": {},
   "source": [
    "# for the R, G, B layer\n"
   ]
  },
  {
   "cell_type": "code",
   "execution_count": null,
   "metadata": {},
   "outputs": [],
   "source": [
    "import os, gc, random\n",
    "\n",
    "#Basic dataframe, array, and math stuff\n",
    "import pandas as pd #data frame\n",
    "import math #math functions\n",
    "import numpy as np    #numerical package\n",
    "\n",
    "#Scikit learn\n",
    "import sklearn as sk  #scikit learn\n",
    "from sklearn import metrics\n",
    "from sklearn.model_selection import train_test_split as tts #train test split\n",
    "from sklearn.metrics import confusion_matrix, roc_curve, classification_report #for 2-class model\n",
    "from sklearn.preprocessing import MinMaxScaler as MMS\n",
    "\n",
    "#Tensorflow\n",
    "import tensorflow as tf \n",
    "from tensorflow.python.client import device_lib #GPU Check\n",
    "import keras\n",
    "from keras import layers \n",
    "from keras import Sequential,Input,Model \n",
    "from keras.layers import Dense, Dropout, Flatten, Input, Add, Activation, ZeroPadding2D,GlobalAveragePooling2D\n",
    "from keras.layers import BatchNormalization,Conv2D, AveragePooling2D, MaxPooling2D, GlobalMaxPooling2D, LeakyReLU  \n",
    "from keras.callbacks import EarlyStopping, ReduceLROnPlateau, ModelCheckpoint #use for early stopping and reduction on level-out\n",
    "from keras.initializers import glorot_uniform, he_uniform #to initialize random weights for filters\n",
    "from keras.preprocessing.image import ImageDataGenerator \n",
    "from keras.preprocessing import image as image_utils\n",
    "from keras.applications.imagenet_utils import preprocess_input, decode_predictions, preprocess_input\n",
    "from keras.models import Model, load_model  #Can't do much without a model\n",
    "from keras import utils\n",
    "from keras.utils import get_file, plot_model, to_categorical, model_to_dot\n",
    "from keras.metrics import AUC\n",
    "from keras.preprocessing import image\n",
    "from keras.applications import ResNet50V2, MobileNetV2, VGG16 \n",
    "import keras.backend as K #let's write our own metrics and loss functions\n",
    "\n",
    "#Graphing\n",
    "import cv2\n",
    "from PIL import Image\n",
    "import glob           #helps read files\n",
    "import matplotlib.pyplot as plt\n",
    "import numpy as np \n",
    "from imgaug import augmenters as iaa\n",
    "\n",
    "print(device_lib.list_local_devices()) #Let's see if Python recognizes my GPU, shall we?"
   ]
  },
  {
   "cell_type": "markdown",
   "metadata": {},
   "source": [
    "trying to understand the model on the internet for 8 layers!!!\n",
    "https://github.com/ekbanasolutions/satellite-img\n",
    "\n",
    "https://blogs.mathworks.com/student-lounge/2023/11/29/kelp-wanted-challenge-starter-code/"
   ]
  },
  {
   "cell_type": "markdown",
   "metadata": {},
   "source": [
    "#### The first 5 bands contain measurements taken at different wavelengths of the light spectrum, and the last two are supplementary metrics to better understand the environment. \n",
    "- Short-wave infrared (SWIR)\n",
    "- Near infrared (NIR)\n",
    "- Red\n",
    "- Green\n",
    "- Blue\n",
    "- Cloud Mask (binary – is there cloud or not)\n",
    "- Digital Elevation Model (meters above sea-level)"
   ]
  },
  {
   "cell_type": "code",
   "execution_count": null,
   "metadata": {},
   "outputs": [],
   "source": [
    "#Define function for clearing GPU memory\n",
    "def reset_keras():\n",
    "    keras.backend.clear_session\n",
    "    gc.collect()\n",
    "reset_keras()"
   ]
  },
  {
   "cell_type": "code",
   "execution_count": 2,
   "metadata": {},
   "outputs": [
    {
     "name": "stdout",
     "output_type": "stream",
     "text": [
      "[name: \"/device:CPU:0\"\n",
      "device_type: \"CPU\"\n",
      "memory_limit: 268435456\n",
      "locality {\n",
      "}\n",
      "incarnation: 15367158935368421529\n",
      "xla_global_id: -1\n",
      ", name: \"/device:GPU:0\"\n",
      "device_type: \"GPU\"\n",
      "memory_limit: 5738856448\n",
      "locality {\n",
      "  bus_id: 1\n",
      "  links {\n",
      "  }\n",
      "}\n",
      "incarnation: 4904084179315022876\n",
      "physical_device_desc: \"device: 0, name: NVIDIA GeForce RTX 3070 Laptop GPU, pci bus id: 0000:01:00.0, compute capability: 8.6\"\n",
      "xla_global_id: 416903419\n",
      "]\n"
     ]
    }
   ],
   "source": [
    "from tensorflow.python.client import device_lib #GPU Check\n",
    "print(device_lib.list_local_devices()) "
   ]
  },
  {
   "cell_type": "code",
   "execution_count": null,
   "metadata": {},
   "outputs": [],
   "source": [
    "def reset_keras():\n",
    "    tensorflow.keras.backend.clear_session\n",
    "    gc.collect()\n",
    "reset_keras()"
   ]
  }
 ],
 "metadata": {
  "kernelspec": {
   "display_name": "tfgpu",
   "language": "python",
   "name": "python3"
  },
  "language_info": {
   "codemirror_mode": {
    "name": "ipython",
    "version": 3
   },
   "file_extension": ".py",
   "mimetype": "text/x-python",
   "name": "python",
   "nbconvert_exporter": "python",
   "pygments_lexer": "ipython3",
   "version": "3.9.18"
  }
 },
 "nbformat": 4,
 "nbformat_minor": 2
}
